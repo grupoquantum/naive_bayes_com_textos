{
 "cells": [
  {
   "cell_type": "markdown",
   "metadata": {},
   "source": [
    "<h3>Naive Bayes na Classificação de Textos</h3>"
   ]
  },
  {
   "cell_type": "markdown",
   "metadata": {},
   "source": [
    "<h4>Instanciação e Treinamento</h4>"
   ]
  },
  {
   "cell_type": "code",
   "execution_count": 6,
   "metadata": {},
   "outputs": [
    {
     "data": {
      "text/plain": [
       "True"
      ]
     },
     "execution_count": 6,
     "metadata": {},
     "output_type": "execute_result"
    }
   ],
   "source": [
    "from Neuraline.ArtificialIntelligence.MachineLearning.SupervisedLearning.naive_bayes import NaiveBayes\n",
    "naive_bayes = NaiveBayes()\n",
    "# treinamento com as amostras de exemplo para cada classe\n",
    "naive_bayes.addFit(url_path='./texts/training/english', class_name='inglês')\n",
    "naive_bayes.addFit(url_path='./texts/training/portuguese', class_name='português')"
   ]
  },
  {
   "cell_type": "markdown",
   "metadata": {},
   "source": [
    "<h4>Teste com os Textos em Inglês</h4>"
   ]
  },
  {
   "cell_type": "code",
   "execution_count": 32,
   "metadata": {},
   "outputs": [
    {
     "name": "stdout",
     "output_type": "stream",
     "text": [
      "[{'inglês': 0.6923076923076925, 'português': 0.30769230769230776, 'classify': 'inglês'}]\n",
      "Probabilidade para Inglês: 69.23%\n",
      "Probabilidade para Português: 30.77%\n",
      "Classificação para a MAIOR probabilidade: inglês\n"
     ]
    }
   ],
   "source": [
    "url_inputs = './texts/test/english/english01.txt'\n",
    "classification = naive_bayes.predict(url_inputs)\n",
    "# retorno original\n",
    "print(classification)\n",
    "# retorno formatado\n",
    "print(f'Probabilidade para Inglês: {round(classification[0][\"inglês\"]*100, 2)}%')\n",
    "print(f'Probabilidade para Português: {round(classification[0][\"português\"]*100, 2)}%')\n",
    "print(f'Classificação para a MAIOR probabilidade: {classification[0][\"classify\"]}')"
   ]
  },
  {
   "cell_type": "markdown",
   "metadata": {},
   "source": [
    "<h4>Teste com os Textos em Português</h4>"
   ]
  },
  {
   "cell_type": "code",
   "execution_count": 33,
   "metadata": {},
   "outputs": [
    {
     "name": "stdout",
     "output_type": "stream",
     "text": [
      "[{'inglês': 0.37383177570093445, 'português': 0.6261682242990653, 'classify': 'português'}]\n",
      "Probabilidade para Inglês: 37.38%\n",
      "Probabilidade para Português: 62.62%\n",
      "Classificação para a MAIOR probabilidade: português\n"
     ]
    }
   ],
   "source": [
    "url_inputs = './texts/test/portuguese/portuguese01.txt'\n",
    "classification = naive_bayes.predict(url_inputs)\n",
    "# retorno original\n",
    "print(classification)\n",
    "# retorno formatado\n",
    "print(f'Probabilidade para Inglês: {round(classification[0][\"inglês\"]*100, 2)}%')\n",
    "print(f'Probabilidade para Português: {round(classification[0][\"português\"]*100, 2)}%')\n",
    "print(f'Classificação para a MAIOR probabilidade: {classification[0][\"classify\"]}')"
   ]
  },
  {
   "cell_type": "markdown",
   "metadata": {},
   "source": [
    "<h4>Teste com os Textos em Inglês e Português</h4>"
   ]
  },
  {
   "cell_type": "code",
   "execution_count": 34,
   "metadata": {},
   "outputs": [
    {
     "name": "stdout",
     "output_type": "stream",
     "text": [
      "arquivos classificados com sucesso\n"
     ]
    }
   ],
   "source": [
    "url_inputs = './texts/test/english_and_portuguese'\n",
    "if naive_bayes.predict(url_inputs): print('arquivos classificados com sucesso')\n",
    "else: print('erro na classificação dos arquivos')"
   ]
  }
 ],
 "metadata": {
  "kernelspec": {
   "display_name": "Python 3.10.4 64-bit",
   "language": "python",
   "name": "python3"
  },
  "language_info": {
   "codemirror_mode": {
    "name": "ipython",
    "version": 3
   },
   "file_extension": ".py",
   "mimetype": "text/x-python",
   "name": "python",
   "nbconvert_exporter": "python",
   "pygments_lexer": "ipython3",
   "version": "3.10.4"
  },
  "orig_nbformat": 4,
  "vscode": {
   "interpreter": {
    "hash": "916dbcbb3f70747c44a77c7bcd40155683ae19c65e1c03b4aa3499c5328201f1"
   }
  }
 },
 "nbformat": 4,
 "nbformat_minor": 2
}
